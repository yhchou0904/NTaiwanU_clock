{
 "cells": [
  {
   "cell_type": "code",
   "execution_count": 1,
   "metadata": {},
   "outputs": [],
   "source": [
    "from selenium import webdriver\n",
    "import time\n",
    "import datetime\n",
    "import schedule\n",
    "from threading import Timer"
   ]
  },
  {
   "cell_type": "code",
   "execution_count": 2,
   "metadata": {},
   "outputs": [],
   "source": [
    "from account import us, ps, ml, mlps"
   ]
  },
  {
   "cell_type": "code",
   "execution_count": 3,
   "metadata": {},
   "outputs": [],
   "source": [
    "from email.mime.multipart import MIMEMultipart\n",
    "from email.mime.text import MIMEText\n",
    "import smtplib"
   ]
  },
  {
   "cell_type": "code",
   "execution_count": 4,
   "metadata": {},
   "outputs": [],
   "source": [
    "from random import randint"
   ]
  },
  {
   "cell_type": "code",
   "execution_count": 5,
   "metadata": {},
   "outputs": [],
   "source": [
    "def find_login_button(eles):\n",
    "    found_button = False\n",
    "    for ele in eles:\n",
    "        txt = ele.text\n",
    "        if txt == '登入':\n",
    "            found_button = True\n",
    "            return ele\n",
    "    if not found_button:\n",
    "        return False"
   ]
  },
  {
   "cell_type": "code",
   "execution_count": 6,
   "metadata": {},
   "outputs": [],
   "source": [
    "def send_email(s):\n",
    "    content = MIMEMultipart()\n",
    "    content['subject']  = s\n",
    "    content['from'] = ml\n",
    "    content['to'] = ml\n",
    "    with smtplib.SMTP(host='smtp.gmail.com', port='587') as smtp:\n",
    "        try:\n",
    "            smtp.ehlo()\n",
    "            smtp.starttls()\n",
    "            smtp.login(ml, mlps)\n",
    "            smtp.send_message(content)\n",
    "        except:\n",
    "            with open('error_log.txt', 'a') as f:\n",
    "                print(datetime.datetime.now(), file=f)\n",
    "                print('Cannot send email', file=f)"
   ]
  },
  {
   "cell_type": "code",
   "execution_count": 7,
   "metadata": {},
   "outputs": [],
   "source": [
    "def check_record(tp, driver):\n",
    "    if tp == 'in':\n",
    "        index = 4\n",
    "    else:\n",
    "        index = 5\n",
    "    count = 10\n",
    "    while count > 0:\n",
    "        try:\n",
    "            records = driver.find_elements_by_tag_name('td')\n",
    "            dt = [int(i) for i in records[3].text.split('-')]\n",
    "            tm = [int(i) for i in records[index].text.split(':')]\n",
    "            if tp == 'in':\n",
    "                if (datetime.date.today() == datetime.date(dt[0],dt[1],dt[2])) and (datetime.datetime(dt[0],dt[1],dt[2],tm[0],tm[1],tm[2]) <= datetime.datetime(dt[0],dt[1],dt[2],9)):\n",
    "                    return True, dt+tm\n",
    "            else:\n",
    "                if len(tm) > 1:\n",
    "                    return True, None\n",
    "        except:\n",
    "            count -= 1\n",
    "    return False, None"
   ]
  },
  {
   "cell_type": "code",
   "execution_count": 8,
   "metadata": {},
   "outputs": [],
   "source": [
    "def clock_in(us, ps):\n",
    "    driver = webdriver.Chrome('C:\\\\Users\\\\Administrator\\\\Downloads\\\\chromedriver_win32\\\\chromedriver')\n",
    "    time.sleep(10)\n",
    "    driver.get('https://my.ntu.edu.tw/attend/ssi.aspx')\n",
    "    login(us, ps, driver)\n",
    "    time.sleep(10)\n",
    "    count = 10\n",
    "    while count > 0:\n",
    "        try:\n",
    "            driver.find_element_by_id('btSign').click() \n",
    "            time.sleep(5)\n",
    "            break\n",
    "        except:\n",
    "            with open('error_log.txt', 'a') as f:\n",
    "                print(datetime.datetime.now(), file=f)\n",
    "                print('Cannot click clock in buttom', file=f)\n",
    "            count -= 1\n",
    "    driver.refresh()\n",
    "    status, when = check_record('in', driver)\n",
    "    if status:\n",
    "        send_email('Clock in successfully')\n",
    "    else:\n",
    "        send_email('Unsuccessful clock in')\n",
    "    driver.quit()"
   ]
  },
  {
   "cell_type": "code",
   "execution_count": 9,
   "metadata": {},
   "outputs": [],
   "source": [
    "def clock_out(us, ps):\n",
    "    driver = webdriver.Chrome('C:\\\\Users\\\\Administrator\\\\Downloads\\\\chromedriver_win32\\\\chromedriver')\n",
    "    time.sleep(10)\n",
    "    driver.get('https://my.ntu.edu.tw/attend/ssi.aspx')\n",
    "    login(us, ps, driver)\n",
    "    time.sleep(10)\n",
    "    try:\n",
    "        driver.find_element_by_id('btSign2').click()\n",
    "        time.sleep(10)\n",
    "    except:\n",
    "        with open('error_log.txt', 'a') as f:\n",
    "            print(datetime.datetime.now(), file=f)\n",
    "            print('Cannot click clock out buttom', file=f)\n",
    "    driver.refresh()\n",
    "    status, _ = check_record('out', driver)\n",
    "    if status:\n",
    "        send_email('Clock out successfully')\n",
    "    else:\n",
    "        send_email('Unsuccessful clock out')\n",
    "    driver.quit()"
   ]
  },
  {
   "cell_type": "code",
   "execution_count": 10,
   "metadata": {},
   "outputs": [],
   "source": [
    "def login(us, ps, driver):\n",
    "    time.sleep(10)\n",
    "    count = 10\n",
    "    while count > 0:\n",
    "        try:\n",
    "            eles = driver.find_elements_by_tag_name('a')\n",
    "            login_button = find_login_button(eles)\n",
    "            if login_button:\n",
    "                login_button.click()\n",
    "            else:\n",
    "                print('No login button')\n",
    "                time.sleep(10)\n",
    "            userbox = driver.find_element_by_name('user')\n",
    "            userbox.send_keys(us)\n",
    "            passbox = driver.find_element_by_name('pass')\n",
    "            passbox.send_keys(ps)\n",
    "            driver.find_element_by_css_selector('input[type=submit]').click()\n",
    "            break\n",
    "        except:\n",
    "            count -= 1"
   ]
  },
  {
   "cell_type": "code",
   "execution_count": 11,
   "metadata": {},
   "outputs": [],
   "source": [
    "def job_Of_Clock_in():\n",
    "    delay = randint(0,900)\n",
    "    time.sleep(delay)\n",
    "    clock_in(us,ps)\n",
    "    with open('error_log.txt', 'a') as f:\n",
    "        print('Clock in at', datetime.datetime.today(), file=f)"
   ]
  },
  {
   "cell_type": "code",
   "execution_count": 12,
   "metadata": {},
   "outputs": [],
   "source": [
    "def job_Of_Clock_out():\n",
    "    delay = randint(0,900)\n",
    "    time.sleep(delay)\n",
    "    clock_out(us,ps)\n",
    "    with open('error_log.txt', 'a') as f:\n",
    "        print('Clock out at', datetime.datetime.today(), file=f)"
   ]
  },
  {
   "cell_type": "code",
   "execution_count": 13,
   "metadata": {},
   "outputs": [
    {
     "data": {
      "text/plain": [
       "Every 1 week at 17:15:00 do job_Of_Clock_out() (last run: [never], next run: 2020-11-20 17:15:00)"
      ]
     },
     "execution_count": 13,
     "metadata": {},
     "output_type": "execute_result"
    }
   ],
   "source": [
    "schedule.every().monday.at('08:00').do(job_Of_Clock_in)\n",
    "schedule.every().monday.at('17:15').do(job_Of_Clock_out)\n",
    "schedule.every().tuesday.at('08:00').do(job_Of_Clock_in)\n",
    "schedule.every().tuesday.at('17:15').do(job_Of_Clock_out)\n",
    "schedule.every().wednesday.at('08:00').do(job_Of_Clock_in)\n",
    "schedule.every().wednesday.at('17:15').do(job_Of_Clock_out)\n",
    "schedule.every().thursday.at('08:00').do(job_Of_Clock_in)\n",
    "schedule.every().thursday.at('17:15').do(job_Of_Clock_out)\n",
    "schedule.every().friday.at('08:00').do(job_Of_Clock_in)\n",
    "schedule.every().friday.at('17:15').do(job_Of_Clock_out)"
   ]
  },
  {
   "cell_type": "code",
   "execution_count": null,
   "metadata": {},
   "outputs": [],
   "source": [
    "while True:\n",
    "    schedule.run_pending()\n",
    "    time.sleep(1)"
   ]
  },
  {
   "cell_type": "code",
   "execution_count": null,
   "metadata": {},
   "outputs": [],
   "source": []
  }
 ],
 "metadata": {
  "kernelspec": {
   "display_name": "Python 3",
   "language": "python",
   "name": "python3"
  },
  "language_info": {
   "codemirror_mode": {
    "name": "ipython",
    "version": 3
   },
   "file_extension": ".py",
   "mimetype": "text/x-python",
   "name": "python",
   "nbconvert_exporter": "python",
   "pygments_lexer": "ipython3",
   "version": "3.8.3"
  }
 },
 "nbformat": 4,
 "nbformat_minor": 4
}
